{
 "cells": [
  {
   "cell_type": "markdown",
   "metadata": {},
   "source": [
    "# Análise de Regressão Simples e Múltipla"
   ]
  },
  {
   "cell_type": "markdown",
   "metadata": {},
   "source": [
    "## Introdução"
   ]
  },
  {
   "cell_type": "markdown",
   "metadata": {},
   "source": [
    "> \"Diferentes pesquisadores, a partir de uma mesma base de dados, podem estimar diferentes modelos e, consequentemente, obter diferentes valores previstos do fenômeno em estudo. O objetivo é estimar modelos que, embora simplificações da realidade, apresentem a melhor aderência possível entre os valores reais e os valores previstos.\"\n",
    "> \n",
    "> Silberzahn, R; Uhlmann, E. L. Many hands make tight work. **Nature**m v. 526, p. 189-191, Out 2015."
   ]
  },
  {
   "cell_type": "markdown",
   "metadata": {},
   "source": [
    "## Modelos Lineares Generalizados (_Generalized Linear Models_)\n",
    "\n",
    "* Criação por John Nelder e Robert Wedderburn em 1972;\n",
    "\n",
    "|Modelo de Regressão|Característica da Variável Dependente|Distribuição|\n",
    "|-:|:-:|:-|\n",
    "|**Linear**|Quantitativa|Normal|\n",
    "|**Com formação de Box-Cox**|Quantitativa|Normal após a transformação|\n",
    "|**Logística Binária**|Qualitativa com 2 categorias|Bernoulli|\n",
    "|**Logística Multinominal**|Qualitativa com >2 categorias|Bernoulli|\n",
    "|**Poisson**|Quantitativa com valores inteiros e não negativos (Dados de contagem)|Poisson|\n",
    "|**Binomial Negativo**|Quantitativa com valores inteiros e não negativos (Dados de contagem)|Poisson-Gama|"
   ]
  },
  {
   "cell_type": "markdown",
   "metadata": {},
   "source": [
    "### Regressão Linear Simples\n",
    "\n",
    "* O objetivo é desenvolver uma equação linear que apresente a relação entre uma variável dependente e uma variável explicativa;\n",
    "* Equação linear de uma reta no plano cartesiano:\n",
    "  * $Y_i = \\alpha + \\beta . X_i + u_i$\n",
    "  * $\\alpha$ - Como o intercepto (coeficiente linear), o ponto em que a linha cruza $Y$\n",
    "  * $\\beta$ - Como o coeficiente angular, que indica a inclinação da reta\n",
    "  * $X_i$ - Como a variável explicativa\n",
    "  * $u_i$ - Como o termo de erro, ou seja, tudo o que não foi possível colocar dentro do modelo tornando-o incompleto destas informações.\n"
   ]
  },
  {
   "cell_type": "code",
   "execution_count": null,
   "metadata": {},
   "outputs": [],
   "source": []
  },
  {
   "cell_type": "markdown",
   "metadata": {},
   "source": [
    "### Coeficiente de ajuste do modelo - $R^2$\n",
    "\n",
    "* Indica o percentual de variância da variável $Y$ que é devido ao comportamento de variação conjunta da variável explicativa - ou das variáveis explicativas, $X$.\n",
    "* Varia de 0 a 1\n",
    "* Quanto maior o valor, maior poder preditivo o modelo tem\n",
    "  * Portanto, maior o poder de explicação do comportamento da variável dependente frente às variáveis explicativas.\n",
    "* Cálculo de $R^2$:\n",
    "\n",
    "$$\n",
    "R^2 = \\frac{\\sum^{n}_{i=0}(\\hat{y}_i - \\bar{Y})^2}{\\sum^{n}_{i=0}(\\hat{y}_i - \\bar{Y})^2 + \\sum^{n}_{i=0}(u_i)^2}\n",
    "$$"
   ]
  },
  {
   "cell_type": "code",
   "execution_count": null,
   "metadata": {},
   "outputs": [],
   "source": []
  },
  {
   "cell_type": "markdown",
   "metadata": {},
   "source": [
    "### Estimação dos parâmetros\n",
    "\n",
    "1. Soma dos erros iguais a zero:\n",
    "\n",
    "$$\n",
    "\\sum^{n}_{i=0}u_i=0\n",
    "$$\n",
    "\n",
    "2. Soma dos erros ao quadrado sendo a mínima possível\n",
    "\n",
    "$$\n",
    "\\sum^{n}_{i=0}u_i^2=\\text{min}\n",
    "$$\n",
    "\n",
    "* Os parâmetros $\\alpha$ e $\\beta$ podem ser estimados através do método dos mínimos quadrados ordinários (Ordinary least squares) em que a somatória dos quadrados dos termos é minimizada."
   ]
  },
  {
   "cell_type": "code",
   "execution_count": null,
   "metadata": {},
   "outputs": [],
   "source": []
  }
 ],
 "metadata": {
  "language_info": {
   "name": "python"
  }
 },
 "nbformat": 4,
 "nbformat_minor": 2
}
