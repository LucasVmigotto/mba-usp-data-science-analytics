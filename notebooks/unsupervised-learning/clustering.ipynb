{
 "cells": [
  {
   "cell_type": "markdown",
   "metadata": {},
   "source": [
    "# Clustering"
   ]
  },
  {
   "cell_type": "markdown",
   "metadata": {},
   "source": [
    "* Aplica-se a análise de clusters quando o objetivo for agrupar as observações em **grupos internamente homogêneos** e **heterogêneos entre si**;\n",
    "  * Dentro dos clusters, as observações são semelhantes com base nas variáveis usadas na análise;\n",
    "  * Dentre os clusters, as observações se diferenciam com base nas variáveis usadas na análise;\n",
    "* É uma técnica não supervisionada com caráter exploratório;\n",
    "* Caso novas observações venham a ser adicionadas, removidas ou alteradas, ou o mesmo acontece para com as variáveis, o modelo deve ser refeito;\n",
    "\n",
    "**Considerações**\n",
    "* Trata-se de uma técnica bem sensível a presença de _outliers_;\n",
    "* O output do método hierárquico aglomerativo pode ser usado como input no método não hierárquico aglomerativo para a indicação inicial da quantidade $k$ de clusters\n",
    "* O método $k$-_means_ pode ser aplicado em uma quantidade maior de amostras"
   ]
  },
  {
   "cell_type": "markdown",
   "metadata": {},
   "source": [
    "## Método hierárquico aglomerativo\n",
    "\n",
    "* A quantidade de clusters é definida durante a construção do modelo\n",
    "* O fluxo da construção do modelo é o seguinte:\n",
    "  1. Inicia-se com cada observação sendo um único cluster\n",
    "    * $n$ obervações, portanto, $n$ clusters\n",
    "  2. Une-se as observações com a menor distância\n",
    "  3. Com a união de duas novas obervações, ou inclusão de uma observação em um cluster, repete-se o passo anterior\n",
    "    * Sempre é considerada a distância indicada pelo método de encadeamento escolhido\n",
    "    * Essa iteração entre o passo 2 e 3 é realizada $n-1$ vezes, ou seja, culminando a formação final de apenas um cluster\n",
    "* O dendograma é o gráfico utilizado para a visualização dos clusters formados pelo decurso do processo"
   ]
  },
  {
   "cell_type": "markdown",
   "metadata": {},
   "source": [
    "### Tratamento inicial dos dados\n",
    "\n",
    "* Antes de iniciar a construção do modelo, é necessário verificar as unidades de medida das variáveis;\n",
    "  * Caso as variáveis estejam em unidades de medida distintas, **é necessário** realizar a padronização antes;\n",
    "  * Para a padronização, utiliza-se o $z$-_score_:\n",
    "\n",
    "      $$\n",
    "      ZX_{ji} = \\frac{X_{ij} - \\bar{X}_j}{s_j}\n",
    "      $$\n",
    "\n",
    "      > Após a aplicação da expressão, as variáveis estarão com média 0 e desvio padrão igual a 1"
   ]
  },
  {
   "cell_type": "code",
   "execution_count": null,
   "metadata": {},
   "outputs": [],
   "source": []
  },
  {
   "cell_type": "code",
   "execution_count": null,
   "metadata": {},
   "outputs": [],
   "source": []
  },
  {
   "cell_type": "markdown",
   "metadata": {},
   "source": [
    "### Escolhas inerentes ao método"
   ]
  },
  {
   "cell_type": "markdown",
   "metadata": {},
   "source": [
    "#### Medida de dissimilaridade (distância)\n",
    "* Distância entre as obervações - com base nas variáveis escolhidas para a análise\n",
    "    * Indicará, portanto, o quão diferente as observações sáo entre si\n",
    "\n",
    "> Ainda que seja uma medida de semelhança, a correlação de Pearson pode ser usada. Todavia, ajusta-se sua interpretação"
   ]
  },
  {
   "cell_type": "markdown",
   "metadata": {},
   "source": [
    "* Distância de Minkowski\n",
    "\n",
    "$$\n",
    "d_{pq} = [\\sum^{k}_{j=i}(|ZX_{jp} - ZX_{jq}|)^m]^\\frac{1}{m}\n",
    "$$"
   ]
  },
  {
   "cell_type": "code",
   "execution_count": null,
   "metadata": {},
   "outputs": [],
   "source": []
  },
  {
   "cell_type": "code",
   "execution_count": null,
   "metadata": {},
   "outputs": [],
   "source": []
  },
  {
   "cell_type": "markdown",
   "metadata": {},
   "source": [
    "* Distância euclidiana\n",
    "\n",
    "$$\n",
    "d_{pq} = \\sqrt{\\sum^{k}_{j=1}(ZX_{jp} - ZX_{jq})^2}\n",
    "$$"
   ]
  },
  {
   "cell_type": "code",
   "execution_count": null,
   "metadata": {},
   "outputs": [],
   "source": []
  },
  {
   "cell_type": "code",
   "execution_count": null,
   "metadata": {},
   "outputs": [],
   "source": []
  },
  {
   "cell_type": "markdown",
   "metadata": {},
   "source": [
    "* Distância euclidiana quadrática\n",
    "\n",
    "$$\n",
    "d_{pq} = \\sum^{k}_{j=1}(ZX_{jp} - ZX_{jq})^2\n",
    "$$"
   ]
  },
  {
   "cell_type": "code",
   "execution_count": null,
   "metadata": {},
   "outputs": [],
   "source": []
  },
  {
   "cell_type": "code",
   "execution_count": null,
   "metadata": {},
   "outputs": [],
   "source": []
  },
  {
   "cell_type": "markdown",
   "metadata": {},
   "source": [
    "* Distância de Manhattan (City Block)\n",
    "\n",
    "$$\n",
    "d_{pq} = \\sum^{k}_{j=1}|ZX_{jp} - ZX_{jq}|\n",
    "$$"
   ]
  },
  {
   "cell_type": "code",
   "execution_count": null,
   "metadata": {},
   "outputs": [],
   "source": []
  },
  {
   "cell_type": "code",
   "execution_count": null,
   "metadata": {},
   "outputs": [],
   "source": []
  },
  {
   "cell_type": "markdown",
   "metadata": {},
   "source": [
    "* Distância de Chebychev\n",
    "\n",
    "$$\n",
    "d_{pq} = \\text{max}|ZX_{jp} - ZX_{jq}|\n",
    "$$"
   ]
  },
  {
   "cell_type": "code",
   "execution_count": null,
   "metadata": {},
   "outputs": [],
   "source": []
  },
  {
   "cell_type": "code",
   "execution_count": null,
   "metadata": {},
   "outputs": [],
   "source": []
  },
  {
   "cell_type": "markdown",
   "metadata": {},
   "source": [
    "* Distância de Canberra\n",
    "\n",
    "$$\n",
    "d_{pq} = \\sum^{k}_{j=1}\\frac{|ZX_{jp} - ZX_{jq}|}{(ZX_{jp} + ZX_{jq})} \\text{   variáveis de valores positivos}\n",
    "$$"
   ]
  },
  {
   "cell_type": "code",
   "execution_count": null,
   "metadata": {},
   "outputs": [],
   "source": []
  },
  {
   "cell_type": "code",
   "execution_count": null,
   "metadata": {},
   "outputs": [],
   "source": []
  },
  {
   "cell_type": "markdown",
   "metadata": {},
   "source": [
    "#### Método de encadeamento das observações\n",
    "* Especificação da medida de distância quando houver clusters formados"
   ]
  },
  {
   "cell_type": "markdown",
   "metadata": {},
   "source": [
    "* Único - Nearst Neighbor - Single linkage\n",
    "  * Privilegia menos distâncias\n",
    "  * Recomendável em caso de obervações distintas\n",
    "  * $d(MN)W = \\text{\\text{min}\\text{(}\\text{dMW},\\text{dNW}\\text{)}}$"
   ]
  },
  {
   "cell_type": "code",
   "execution_count": null,
   "metadata": {},
   "outputs": [],
   "source": []
  },
  {
   "cell_type": "code",
   "execution_count": null,
   "metadata": {},
   "outputs": [],
   "source": []
  },
  {
   "cell_type": "markdown",
   "metadata": {},
   "source": [
    "* Complete - Furthest Neighbor - Complete linkage\n",
    "  * Privilegia maiores distâncias\n",
    "  * Recomendável em caso de obervações parecidas\n",
    "  * $d(MN)W = \\text{\\text{max}\\text{(}\\text{dMW},\\text{dNW}\\text{)}}$"
   ]
  },
  {
   "cell_type": "code",
   "execution_count": null,
   "metadata": {},
   "outputs": [],
   "source": []
  },
  {
   "cell_type": "code",
   "execution_count": null,
   "metadata": {},
   "outputs": [],
   "source": []
  },
  {
   "cell_type": "markdown",
   "metadata": {},
   "source": [
    "* Médio - Between Groups - Average linkage\n",
    "  * Junção de grupos pela distância média entre os pares de observações do grupo em análise\n",
    "  * $d(MN)W = \\text{\\text{avg}\\text{(}\\text{dMW},\\text{dNW}\\text{)}}$"
   ]
  },
  {
   "cell_type": "code",
   "execution_count": null,
   "metadata": {},
   "outputs": [],
   "source": []
  },
  {
   "cell_type": "code",
   "execution_count": null,
   "metadata": {},
   "outputs": [],
   "source": []
  },
  {
   "cell_type": "markdown",
   "metadata": {},
   "source": [
    "#### Análise dos agrupamentos\n",
    "\n",
    "* Quantos clusters escolher?\n",
    "  * Uma opção seria adotar o tamanho do salto entre os momentos de formação de clusters\n",
    "  * Quanto maior o salto, mais distintas são as observações que foram unidas em determinado ponto\n",
    "\n",
    "* Após a formação dos clusters, é importante analisar se a variabilidade interna do grupo é menor do que a variabilidade entre grupos com base nas variáveis em análise;\n",
    "  * Aplica-se, para este fim, um teste F para a análise de variância:\n",
    "    \n",
    "    $$\n",
    "    F=\\frac{\\text{Variabilidade enrre grupos}}{\\text{Variabilidade dentro dos grupos}}\n",
    "    $$\n",
    "    \n",
    "    > Considerando $k$ como o número de clusters e $n$ como tamanho da amostra, temos:\n",
    "    > \n",
    "    > Graus de liberdade no numerador $= k - 1$\n",
    "    > \n",
    "    > Graus de liberdade no denominador $= n - k$\n",
    "\n",
    "  * É possível analisar quais variáveis mais contribuíram para a formação de pelo menos um dos clusters\n",
    "    * Maiores valores para $F$ - isto, em conjunto com o nível de significância determinado"
   ]
  },
  {
   "cell_type": "code",
   "execution_count": null,
   "metadata": {},
   "outputs": [],
   "source": []
  },
  {
   "cell_type": "code",
   "execution_count": null,
   "metadata": {},
   "outputs": [],
   "source": []
  },
  {
   "cell_type": "markdown",
   "metadata": {},
   "source": [
    "## Método não hierárquico aglomerativo (_k_-_Means_)\n",
    "\n",
    "* A quantidade de clusters **deve** ser definida _a priori_"
   ]
  },
  {
   "cell_type": "markdown",
   "metadata": {},
   "source": [
    "### Tratamento inicial dos dados\n",
    "\n",
    "* Assim como no método hierárquico aglomerativo, é necessário analisar as unidades de medida das variáveis;\n",
    "  * Caso estejam com disparidade, **é necessário** aplicar a padronização por meio do $z$-_score_:\n",
    "\n",
    "    $$\n",
    "    ZX_{ji} = \\frac{X_{ij} - \\bar{X}_j}{s_j}\n",
    "    $$"
   ]
  },
  {
   "cell_type": "code",
   "execution_count": null,
   "metadata": {},
   "outputs": [],
   "source": []
  },
  {
   "cell_type": "code",
   "execution_count": null,
   "metadata": {},
   "outputs": [],
   "source": []
  },
  {
   "cell_type": "markdown",
   "metadata": {},
   "source": [
    "### Esquemas de aglomeração\n",
    "\n",
    "* A quantidade $k$ de clusters é definida _a priori_ da construção do modelo;\n",
    "  * Esta medida é usada para determinar a quantidade de centros de aglomeração que serão usados;\n",
    "* Nas etapas subsequentes, as obervações vão sendo comparadas pela proximidade dos centroids.\n",
    "  * Enquanto as observações mudarem de clusters por conta da maior proximidade com os centroids, o processo iterativo continua\n",
    "  * Portanto, o processo só se encerra quando as observações parem de mudar de cluster, ou seja, a distância de cada observação para o ponto de um centroid foi minimizado.\n",
    "    * Esta medida é dada pela expressão da _Within Cluster Sum of Squares_ (WCSS):\n",
    "\n",
    "    $$\n",
    "    WCSS=\\sum^{k}_{k=1}\\sum_{x_i \\in C_k}(x_i - \\mu_k)^2\n",
    "    $$"
   ]
  },
  {
   "cell_type": "code",
   "execution_count": null,
   "metadata": {},
   "outputs": [],
   "source": []
  },
  {
   "cell_type": "code",
   "execution_count": null,
   "metadata": {},
   "outputs": [],
   "source": []
  },
  {
   "cell_type": "markdown",
   "metadata": {},
   "source": [
    "### Identificação da quantidade de clusters"
   ]
  },
  {
   "cell_type": "markdown",
   "metadata": {},
   "source": [
    "#### Método do cotovelo - Elbow method\n",
    "\n",
    "* É criado um gráfico com as medidas de $WCSS$ para uma quantidade $k$ de clusters.\n",
    "  * Observando o gráfico, busca-se a dobra (cotovelo) em que o valor de $WCSS$ deixe de ter uma queda expressiva e estabilize"
   ]
  },
  {
   "cell_type": "code",
   "execution_count": null,
   "metadata": {},
   "outputs": [],
   "source": []
  },
  {
   "cell_type": "code",
   "execution_count": null,
   "metadata": {},
   "outputs": [],
   "source": []
  },
  {
   "cell_type": "markdown",
   "metadata": {},
   "source": [
    "#### Método da silhueta\n",
    "\n",
    "* Para cada obervação calcula-se:\n",
    "  * Distância média para o cluster mais próximo onde não está alocada\n",
    "  * Distância para o centro do cluster onde está incluída\n",
    "\n",
    "    $$\n",
    "    \\text{Silhueta}=\\frac{(b-a)}{\\text{max}(a, b)}\n",
    "    $$\n",
    "\n",
    "    > Quanto mais próximo de 1 melhor\n",
    "    >\n",
    "    > Quanto mais próximo de -1 pior\n",
    "\n",
    "  * Por fim, calcula-se o coeficiente de silhueta médio para todas as observações\n",
    "* Este procedimento todo é realizado para uma quantidade $k$ de clusters"
   ]
  },
  {
   "cell_type": "code",
   "execution_count": null,
   "metadata": {},
   "outputs": [],
   "source": []
  },
  {
   "cell_type": "code",
   "execution_count": null,
   "metadata": {},
   "outputs": [],
   "source": []
  }
 ],
 "metadata": {
  "language_info": {
   "name": "python"
  }
 },
 "nbformat": 4,
 "nbformat_minor": 2
}
