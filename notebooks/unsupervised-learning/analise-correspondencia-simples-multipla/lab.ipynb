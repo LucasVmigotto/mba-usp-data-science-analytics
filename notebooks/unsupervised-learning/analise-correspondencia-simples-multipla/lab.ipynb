{
  "cells": [
    {
      "cell_type": "markdown",
      "source": [
        "# Análise de correspondência simples e múltipla"
      ],
      "metadata": {
        "id": "3pDs9Vb_JyyP"
      }
    },
    {
      "cell_type": "markdown",
      "metadata": {
        "id": "l1R_lLcggtxY"
      },
      "source": [
        "## Setup de ambiente"
      ]
    },
    {
      "cell_type": "code",
      "execution_count": null,
      "metadata": {
        "id": "-j1ee81Tgtxd"
      },
      "outputs": [],
      "source": [
        "from pathlib import Path\n",
        "\n",
        "import numpy as np\n",
        "import pandas as pd\n",
        "import seaborn as sns\n",
        "from matplotlib import pyplot as plt\n",
        "from scipy.stats import chi2_contingency\n",
        "from statsmodels import api as sm\n",
        "import prince"
      ]
    },
    {
      "cell_type": "code",
      "execution_count": null,
      "metadata": {
        "id": "pri1QOpNgtxe"
      },
      "outputs": [],
      "source": [
        "DATAFOLDER_PATH: Path = Path('/app/data/unsupervised-learning/analise-correspondencia-simples-multipla')\n",
        "DATAFILE: Path = DATAFOLDER_PATH / 'perfil_aplicacao.xlsx'"
      ]
    },
    {
      "cell_type": "code",
      "source": [
        "df: pd.DataFrame = pd.read_excel(DATAFILE)\n",
        "\n",
        "display(df['Perfil'].value_counts())\n",
        "display(df['Tipo de Aplicação'].value_counts())\n",
        "df.head()"
      ],
      "metadata": {
        "id": "a6F8iMfkF61U"
      },
      "execution_count": null,
      "outputs": []
    },
    {
      "cell_type": "markdown",
      "metadata": {
        "id": "ileh8Fhvgtxf"
      },
      "source": [
        "## Análise de Correspondência"
      ]
    },
    {
      "cell_type": "markdown",
      "source": [
        "### Introdução\n",
        "\n"
      ],
      "metadata": {
        "id": "ue_w1XXchFLU"
      }
    },
    {
      "cell_type": "markdown",
      "source": [
        "* Técnina adequada para a análise de variáveis categoricas (qualitativas);\n",
        "  * Variáveis geradas por escala [Likert](https://en.wikipedia.org/wiki/Likert_scale);\n",
        "    * Evita problema de poderação arbitrária;\n",
        "    * Cada variável em escala Likert corresponde a uma variável na análise simples ou múltipla;\n",
        "    * Exemplos:\n",
        "      * Concordo plenamente, parcialmente, não concordo nem discord, discordo parcialmente, totalmente;\n",
        "  * Exemplos de aplicação:\n",
        "    * Faixas de renda;\n",
        "    * Nível de escolaridade;\n",
        "    * Tipo de cultura implmentada em solo;\n",
        "    * Gravidade de sintomos de uma doença e comorbidades;\n",
        "* Técnica exploratória, ou seja, não supervisionada;\n",
        "  * Usada para avaliar a relação conjunta entre variáveis (interdependência)\n",
        "  * Não são aplicáveis para inferência\n",
        "    * Não há modelos do tipo $y_{i} = x_{1i} + x_{2i} + ... + u_{i}$;\n",
        "* Se novas variáveis forem adicionadas, deve-se refazer a análise;"
      ],
      "metadata": {
        "id": "rm22nCPGhhJF"
      }
    },
    {
      "cell_type": "markdown",
      "source": [
        "### Análise de Correspondência Simples (Anacor)"
      ],
      "metadata": {
        "id": "XQDPZfasg3p3"
      }
    },
    {
      "cell_type": "markdown",
      "source": [
        "#### Teste $\\chi^2$ para associaçõa"
      ],
      "metadata": {
        "id": "RoUqt0eQhQ6w"
      }
    },
    {
      "cell_type": "markdown",
      "source": [
        "##### Tabela de contigência\n",
        "\n",
        "* Contem as frequências absolutas observadas para cada par de categorias\n",
        "  * Também referenciada como tabela de classificação cruzada (_cross table_)"
      ],
      "metadata": {
        "id": "hSrwZYQmj2pA"
      }
    },
    {
      "cell_type": "code",
      "source": [
        "tabela: pd.DataFrame = pd.crosstab(df['Perfil'],\n",
        "                                   df['Tipo de Aplicação'])\n",
        "\n",
        "tabela.head()"
      ],
      "metadata": {
        "id": "4QhlskkJkSbx"
      },
      "execution_count": null,
      "outputs": []
    },
    {
      "cell_type": "code",
      "source": [
        "contingency_table: sm.stats.Table = sm.stats.Table(tabela)\n",
        "\n",
        "contingency_table"
      ],
      "metadata": {
        "id": "G9AYmgLFGzh2"
      },
      "execution_count": null,
      "outputs": []
    },
    {
      "cell_type": "code",
      "source": [
        "ca = prince.CA().fit(tabela)\n",
        "\n",
        "ca"
      ],
      "metadata": {
        "id": "ydgwmq_hH_v2"
      },
      "execution_count": null,
      "outputs": []
    },
    {
      "cell_type": "code",
      "source": [],
      "metadata": {
        "id": "W745dkvKp5lq"
      },
      "execution_count": null,
      "outputs": []
    },
    {
      "cell_type": "markdown",
      "source": [
        "##### Tabela de frequências absolutas esperadas\n",
        "\n",
        "* Para cada célula na [tabela de contigência](#tabela-de-contigencia), a frequência será dada pela formula:\n",
        "\n",
        "$$\n",
        "\\text{Frequência absoluta esperada}_{ij}=\\frac{\\sum_{i=0}^{i+1}\\sum_{j=0}^{j+1}}{N}\n",
        "$$\n",
        "\n",
        "> A multiplicação dos somatórios da linha e da coluna dividios pela quantidade total de registros"
      ],
      "metadata": {
        "id": "5Zf3_-rPkUIU"
      }
    },
    {
      "cell_type": "code",
      "source": [],
      "metadata": {
        "id": "sd0D_asBp4qL"
      },
      "execution_count": null,
      "outputs": []
    },
    {
      "cell_type": "code",
      "source": [
        "contingency_table.fittedvalues"
      ],
      "metadata": {
        "id": "shok3S_op47a"
      },
      "execution_count": null,
      "outputs": []
    },
    {
      "cell_type": "code",
      "source": [],
      "metadata": {
        "id": "kSC8XZRlG6-e"
      },
      "execution_count": null,
      "outputs": []
    },
    {
      "cell_type": "markdown",
      "source": [
        "##### Tabela de resíduos\n",
        "\n",
        "* Para cada célula referente a categoria $ij$ das duas variáveis, o valor do resíduo é dado pela formula:\n",
        "\n",
        "$$\n",
        "\\text{Resíduo}_{ij}=n_{ij} - \\frac{\\sum_{i=0}^{i+1}\\sum_{j=0}^{j+1}}{N}\n",
        "$$"
      ],
      "metadata": {
        "id": "mhpRqm6cp7KO"
      }
    },
    {
      "cell_type": "code",
      "source": [],
      "metadata": {
        "id": "nrNEATMOqfMf"
      },
      "execution_count": null,
      "outputs": []
    },
    {
      "cell_type": "code",
      "source": [
        "tabela - contingency_table.fittedvalues"
      ],
      "metadata": {
        "id": "8s-pQpcAqfh5"
      },
      "execution_count": null,
      "outputs": []
    },
    {
      "cell_type": "code",
      "source": [],
      "metadata": {
        "id": "p5-I9VLcHQRe"
      },
      "execution_count": null,
      "outputs": []
    },
    {
      "cell_type": "markdown",
      "source": [
        "##### Tabela com os valores $\\chi^2$\n",
        "\n",
        "* Para cada valor de categoria $ij$, o valor da estatística $\\chi^2$ é dado pela formula:\n",
        "\n",
        "$$\n",
        "\\chi^2_{ij} = \\frac{\\text{Resíduos}_{ij}^2}{\\text{Frequência absoluta esperada}_{ij}}\n",
        "$$\n",
        "\n",
        "* Posteriormente, os valores são somados para se obter o valor total de $\\chi^2$;\n",
        "  * O objetivo é verificar se existe relação estatisticamente significante;\n",
        "    * $H_0$: As variáveis se associam de forma aleatória\n",
        "    * $H_1$: As variáveis não se associam de forma aleatória\n",
        "    * O valor para os graus de liberdade são dados por:\n",
        "      * $\\text{Graus de liberdade}=(i - 1) (j - 1)$"
      ],
      "metadata": {
        "id": "uuRVWJzeqn6p"
      }
    },
    {
      "cell_type": "code",
      "source": [
        "chi_2, p_value, degrees_freedom, *_ = chi2_contingency(tabela)\n",
        "\n",
        "labels: tuple[str] = ('chi square', 'p value', 'degrees of freedom')\n",
        "\n",
        "for stats, label in zip((chi_2, p_value, degrees_freedom), labels):\n",
        "  print(f'{label}: {stats:,.2f}')"
      ],
      "metadata": {
        "id": "Cs5WIJ_2qogK"
      },
      "execution_count": null,
      "outputs": []
    },
    {
      "cell_type": "code",
      "source": [
        "contingency_table.chi2_contribs"
      ],
      "metadata": {
        "id": "ADUfA63frkqh"
      },
      "execution_count": null,
      "outputs": []
    },
    {
      "cell_type": "code",
      "source": [],
      "metadata": {
        "id": "xgSEXyfjHNr_"
      },
      "execution_count": null,
      "outputs": []
    },
    {
      "cell_type": "markdown",
      "source": [
        "##### Tabela de resíduos pradronizados\n",
        "\n",
        "* Para cada valor de categoria $ij$, p valor de resíduo padronizado é dado pela formula:\n",
        "\n",
        "$$\n",
        "\\text{Resíduo padronizado}_{ij} = \\frac{\\text{Resíduo}_{ij}}{\\sqrt{\\text{Frequência absoluta esperada}_{ij}}}\n",
        "$$"
      ],
      "metadata": {
        "id": "OyriRlK6rk8U"
      }
    },
    {
      "cell_type": "code",
      "source": [],
      "metadata": {
        "id": "bBzEDyeOrlSw"
      },
      "execution_count": null,
      "outputs": []
    },
    {
      "cell_type": "code",
      "source": [
        "contingency_table.resid_pearson"
      ],
      "metadata": {
        "id": "p1FazUMSrlrx"
      },
      "execution_count": null,
      "outputs": []
    },
    {
      "cell_type": "code",
      "source": [],
      "metadata": {
        "id": "S-mgLlG1HInb"
      },
      "execution_count": null,
      "outputs": []
    },
    {
      "cell_type": "markdown",
      "source": [
        "##### Tabela de resíduos pradronizados ajustados\n",
        "\n",
        "* A análise de resíduos padronizados ajustados permite aprofundar a análise com foco nas categorias das variáveis;\n",
        "  * Como as categorias de uma variável se relacionam com as categorias de outra variável?\n",
        "    * Observa-se o excesso ou falta de ocorrências de casos nas categorias das variáveis;\n",
        "* Para cada valor de categoria $ij$, p valor de resíduo padronizado ajustado é dado pela formula:\n",
        "\n",
        "$$\n",
        "\\text{Resíduo padronizado ajustado}_{ij}=\\frac{\\text{Resíduo padronizado}_{ij}}{\\sqrt{[(1 - \\frac{\\sum_{i=0}^{i+1}}{N})(1 - \\frac{\\sum_{j=0}^{j+1}}{N})]}}\n",
        "$$\n",
        "\n",
        "* Se o valor do resíduo padronizado em uma célula for maior que $1,96$, existe associação significativa.\n",
        "  * O valor crítico de uma distribuição normal padrão ($\\mathcal{N}$) é $1,96$"
      ],
      "metadata": {
        "id": "SpBfvqHxsemI"
      }
    },
    {
      "cell_type": "code",
      "source": [],
      "metadata": {
        "id": "BKLDrJR3semJ"
      },
      "execution_count": null,
      "outputs": []
    },
    {
      "cell_type": "code",
      "source": [
        "contingency_table.standardized_resids"
      ],
      "metadata": {
        "id": "Uf-HqAq3semK"
      },
      "execution_count": null,
      "outputs": []
    },
    {
      "cell_type": "code",
      "source": [
        "fig, ax = plt.subplots(figsize=(7, 7))\n",
        "\n",
        "data = contingency_table.standardized_resids.values\n",
        "\n",
        "sns.heatmap(\n",
        "    contingency_table.standardized_resids,\n",
        "    annot=True,\n",
        "    mask=np.ma.masked_where(data < 1.96, data).mask,\n",
        "    cmap='rocket',\n",
        "    ax=ax\n",
        ")\n",
        "\n",
        "plt.show()"
      ],
      "metadata": {
        "id": "Zn1UQ9AuH2TG"
      },
      "execution_count": null,
      "outputs": []
    },
    {
      "cell_type": "code",
      "source": [],
      "metadata": {
        "id": "MY2KyiqjHr2u"
      },
      "execution_count": null,
      "outputs": []
    },
    {
      "cell_type": "markdown",
      "source": [
        "#### Elaboração e interpretação do mapa perceptual"
      ],
      "metadata": {
        "id": "AfxC-Y0MhRRs"
      }
    },
    {
      "cell_type": "markdown",
      "source": [
        "##### Determinar os autovalores (_eigenvalues_) - $λ^2$\n",
        "\n",
        "* Os autovalores referem-se à quantidade de inércias principais parciais\n",
        "  * Base, também, para determinar:\n",
        "    * Inércia principal total\n",
        "    * Percentual da inércia principal total em cada dimensão do mapa perceptual\n",
        "* A quantidade de autovalores depende da quantidade de categorias nas variáveis;\n",
        "  * Pode-se obter através da formula:\n",
        "    * $\\text{Quantidade de autovalores} = m = min(i - 1, j - 1)$\n",
        "\n",
        "\n",
        "* Para o cálculo dos autovalores, primeiro, determina-se uma matriz $A$:\n",
        "  * Para cada valor dos resíduos padronizados\n",
        "\n",
        "$$\n",
        "\\text{Matriz A}_{ij}=\\frac{\\text{Resíduo pradronizado}_{ij}}{\\sqrt{N}}\n",
        "$$"
      ],
      "metadata": {
        "id": "8iUc1AGQj5Mb"
      }
    },
    {
      "cell_type": "code",
      "source": [],
      "metadata": {
        "id": "cBhdoBnBu82m"
      },
      "execution_count": null,
      "outputs": []
    },
    {
      "cell_type": "code",
      "source": [],
      "metadata": {
        "id": "n9nsoPCmu9OV"
      },
      "execution_count": null,
      "outputs": []
    },
    {
      "cell_type": "markdown",
      "source": [
        "* Com base na matriz $A$, obtemos, também, a matriz $W$:\n",
        "\n",
        "$$\n",
        "\\text{Matriz W}=A'A\n",
        "$$"
      ],
      "metadata": {
        "id": "zpfcQ2YE6sfM"
      }
    },
    {
      "cell_type": "code",
      "source": [],
      "metadata": {
        "id": "MYjihd5a7DpS"
      },
      "execution_count": null,
      "outputs": []
    },
    {
      "cell_type": "code",
      "source": [],
      "metadata": {
        "id": "KUFBCuGa7ENC"
      },
      "execution_count": null,
      "outputs": []
    },
    {
      "cell_type": "markdown",
      "source": [
        "* Uma vez com a matriz $W$, os autovalores podem ser obtidos através da expressão:\n",
        "\n",
        "$$\n",
        "det(\\lambda^2 . I - W) = 0\n",
        "$$\n",
        "\n",
        "$$\n",
        "\\begin{vmatrix}\n",
        "\\lambda^2-W_{12} & -W_{12} & -W_{13} \\\\\n",
        "-W_{21} & \\lambda^2-W_{22} & -W_{23} \\\\\n",
        "-W_{31} & -W_{32} & \\lambda^2-W_{33}\\\\\n",
        "\\end{vmatrix} = 0\n",
        "$$\n",
        "\n",
        "> $I$ é a matriz identidade"
      ],
      "metadata": {
        "id": "hkq3P69e7Ebf"
      }
    },
    {
      "cell_type": "code",
      "source": [],
      "metadata": {
        "id": "5L2P_A0I7E0D"
      },
      "execution_count": null,
      "outputs": []
    },
    {
      "cell_type": "code",
      "source": [],
      "metadata": {
        "id": "BsBalQT-7FMx"
      },
      "execution_count": null,
      "outputs": []
    },
    {
      "cell_type": "markdown",
      "source": [
        "* Com base nos autovalores ($\\lambda^2$), encontra-se o percentual da inércia principal total de cada dimensão\n",
        "\n",
        "$$\n",
        "\\text{% da inércia principal total (para cada dimensão)}=\\frac{\\lambda^2_{\\text{dimensão}}}{\\lambda^2_{\\text{total}}}\n",
        "$$"
      ],
      "metadata": {
        "id": "7zcBCmHw8a_h"
      }
    },
    {
      "cell_type": "code",
      "source": [],
      "metadata": {
        "id": "mecNrrOV8baz"
      },
      "execution_count": null,
      "outputs": []
    },
    {
      "cell_type": "code",
      "source": [
        "display(ca.eigenvalues_summary)\n",
        "ca.eigenvalues_"
      ],
      "metadata": {
        "id": "GMuKtY-m8bpw"
      },
      "execution_count": null,
      "outputs": []
    },
    {
      "cell_type": "code",
      "source": [],
      "metadata": {
        "id": "113zu_1iIKM2"
      },
      "execution_count": null,
      "outputs": []
    },
    {
      "cell_type": "markdown",
      "source": [
        "* Quanto maior a inércia principal total (e o $\\chi^2$), mais forte será a associação entre as variáveis em análise\n",
        "\n",
        "$$\n",
        "\\text{Inércia principal total}=\\frac{\\chi^2}{N}\n",
        "$$"
      ],
      "metadata": {
        "id": "05iDvzKF8dWK"
      }
    },
    {
      "cell_type": "code",
      "source": [],
      "metadata": {
        "id": "zHPmuG-x8dWL"
      },
      "execution_count": null,
      "outputs": []
    },
    {
      "cell_type": "code",
      "source": [
        "ca.total_inertia_"
      ],
      "metadata": {
        "id": "3MIuCBrM8dWM"
      },
      "execution_count": null,
      "outputs": []
    },
    {
      "cell_type": "code",
      "source": [],
      "metadata": {
        "id": "NjVcFffSIVjV"
      },
      "execution_count": null,
      "outputs": []
    },
    {
      "cell_type": "markdown",
      "source": [
        "##### Determinar as massas das variáveis em linha e coluna\n",
        "\n",
        "* As massas representam a influência que cada categoria exerce sobre as demais categorias de sua variável;\n",
        "* Com base nos totais da tabela de contingência, para categoria $ij$ das variáveis, as massas podem ser obtidas através das seguintes expressões:\n",
        "\n",
        "$$\n",
        "\\text{Massa linha}_{\\text{Categoria i}}=\\frac{\\sum^{i=0}_{i+1}}{N}\n",
        "$$\n",
        "\n",
        "$$\n",
        "\\text{Massa coluna}_{\\text{Categoria j}}=\\frac{\\sum^{j=0}_{j+1}}{N}\n",
        "$$"
      ],
      "metadata": {
        "id": "a56vTbDQu_2c"
      }
    },
    {
      "cell_type": "code",
      "source": [],
      "metadata": {
        "id": "M9MFW5bFu_2f"
      },
      "execution_count": null,
      "outputs": []
    },
    {
      "cell_type": "code",
      "source": [
        "display('Massas da linha', ca.row_masses_)\n",
        "display('Massas da coluna', ca.col_masses_)"
      ],
      "metadata": {
        "id": "o5AUmKAVu_2g"
      },
      "execution_count": null,
      "outputs": []
    },
    {
      "cell_type": "code",
      "source": [],
      "metadata": {
        "id": "t_smBBe0IcRH"
      },
      "execution_count": null,
      "outputs": []
    },
    {
      "cell_type": "markdown",
      "source": [
        "##### Determinar os autovetores (_eigenvectors_)\n",
        "\n",
        "* Os autovetores podem ser encontrados através dos autovalores ($\\lambda^2$)\n",
        "  * Cada autovalor gera seus próprios autovetores\n",
        "* Para cada autovalor:\n",
        "  * Substitui-se o autovalor na matriz $(\\lambda^2.I-W)$\n",
        "  * Multiplica-se por um vetor coluna e iguala a 0\n",
        "  * Resolvendo o sistema de equações gerado, encontra-se o autovetor da coluna (V)\n",
        "  * Com base neste autovetor, é possível encontrar o autovetor linha (U)\n",
        "\n",
        "$$\n",
        "u_k = \\text{Matriz A} . (\\frac{V_k}{\\lambda_k})\n",
        "$$"
      ],
      "metadata": {
        "id": "0i2w2KCBvAWm"
      }
    },
    {
      "cell_type": "code",
      "source": [],
      "metadata": {
        "id": "H5PGDtIGvAWn"
      },
      "execution_count": null,
      "outputs": []
    },
    {
      "cell_type": "code",
      "source": [
        "display('Linha', ca.svd_.U)\n",
        "display('Coluna', ca.svd_.V.T)"
      ],
      "metadata": {
        "id": "zZEs8hhKvAWo"
      },
      "execution_count": null,
      "outputs": []
    },
    {
      "cell_type": "code",
      "source": [],
      "metadata": {
        "id": "VZeN5ixxIkz8"
      },
      "execution_count": null,
      "outputs": []
    },
    {
      "cell_type": "markdown",
      "source": [
        "##### Obter as coordenadas das categorias - variáveis em linha\n",
        "\n",
        "* Coordenadas das abscissas (X)\n",
        "\n",
        "$$\n",
        "X_i=(\\lambda_1 . \\frac{1}{\\sqrt{D_i}}) . u_1\n",
        "$$\n",
        "\n",
        "* Coordenadas das ordenadas (Y)\n",
        "\n",
        "$$\n",
        "Y_i=(\\lambda_2 . \\frac{1}{\\sqrt{D_i}}) . u_2\n",
        "$$\n",
        "\n",
        "* Coordenadas da $k$-ésima dimensão ($k$ sendo a quantidade de autovalores)\n",
        "\n",
        "$$\n",
        "Z_i=(\\lambda_k . \\frac{1}{\\sqrt{D_i}}) . u_k\n",
        "$$\n"
      ],
      "metadata": {
        "id": "FI5R7e03vAm3"
      }
    },
    {
      "cell_type": "code",
      "source": [],
      "metadata": {
        "id": "C4cvGPYuvAm4"
      },
      "execution_count": null,
      "outputs": []
    },
    {
      "cell_type": "code",
      "source": [
        "ca.row_coordinates(tabela)"
      ],
      "metadata": {
        "id": "EQoM95ybvAm4"
      },
      "execution_count": null,
      "outputs": []
    },
    {
      "cell_type": "code",
      "source": [],
      "metadata": {
        "id": "L5F2hcudIp1o"
      },
      "execution_count": null,
      "outputs": []
    },
    {
      "cell_type": "markdown",
      "source": [
        "##### Obter as coordenadas das categorias - variáveis em coluna\n",
        "\n",
        "* Coordenadas das abscissas (X)\n",
        "\n",
        "$$\n",
        "X_j=(\\lambda_1 . \\frac{1}{\\sqrt{D_j}}) . v_1\n",
        "$$\n",
        "\n",
        "* Coordenadas das ordenadas (Y)\n",
        "\n",
        "$$\n",
        "Y_j=(\\lambda_2 . \\frac{1}{\\sqrt{D_j}}) . v_2\n",
        "$$\n",
        "\n",
        "* Coordenadas da $k$-ésima dimensão ($k$ sendo a quantidade de autovalores)\n",
        "\n",
        "$$\n",
        "Z_j=(\\lambda_k . \\frac{1}{\\sqrt{D_j}}) . u_k\n",
        "$$"
      ],
      "metadata": {
        "id": "_tQ8W3kk4gj8"
      }
    },
    {
      "cell_type": "code",
      "source": [],
      "metadata": {
        "id": "zP5gEj_34gj9"
      },
      "execution_count": null,
      "outputs": []
    },
    {
      "cell_type": "code",
      "source": [
        "ca.column_coordinates(tabela)"
      ],
      "metadata": {
        "id": "dqHiHD3E4gj-"
      },
      "execution_count": null,
      "outputs": []
    },
    {
      "cell_type": "code",
      "source": [],
      "metadata": {
        "id": "6fx1Y68AItlp"
      },
      "execution_count": null,
      "outputs": []
    },
    {
      "cell_type": "markdown",
      "source": [
        "##### Mapa perceptual"
      ],
      "metadata": {
        "id": "wqd58Q9pI6St"
      }
    },
    {
      "cell_type": "code",
      "source": [
        "def set_vars_labels(df, ax):\n",
        "  label, x, y = df.columns\n",
        "  for _idx, row in df.iterrows():\n",
        "    ax.text(\n",
        "      row[x] + .03,\n",
        "      row[y] + .02,\n",
        "      row[label],\n",
        "      fontsize=12\n",
        "    )"
      ],
      "metadata": {
        "id": "OGrwgJdIJVCt"
      },
      "execution_count": null,
      "outputs": []
    },
    {
      "cell_type": "code",
      "source": [
        "row_coords = ca.row_coordinates(tabela)\n",
        "\n",
        "chart_row = pd.DataFrame({\n",
        "  'var_row': tabela.index,\n",
        "  'x_row': row_coords[0].values,\n",
        "  'y_row': row_coords[1].values\n",
        "})\n",
        "\n",
        "chart_row"
      ],
      "metadata": {
        "id": "c30CWnpVI6pM"
      },
      "execution_count": null,
      "outputs": []
    },
    {
      "cell_type": "code",
      "source": [
        "column_coords = ca.column_coordinates(tabela)\n",
        "\n",
        "chart_column = pd.DataFrame({\n",
        "  'var_column': tabela.columns,\n",
        "  'x_column': column_coords[0].values,\n",
        "  'y_column': column_coords[1].values\n",
        "})\n",
        "\n",
        "chart_column"
      ],
      "metadata": {
        "id": "4V-hizPWJD_s"
      },
      "execution_count": null,
      "outputs": []
    },
    {
      "cell_type": "code",
      "source": [
        "chart_obs = tabela.rename(\n",
        "  columns={\n",
        "    'Perfil': 'var_row',\n",
        "    'Tipo de Aplicação': 'var_column'\n",
        "  }\n",
        ")\n",
        "\n",
        "chart_obs = pd.merge(chart_obs, chart_row, how='left', on='var_row')\n",
        "chart_obs = pd.merge(chart_obs, chart_column, how='left', on='var_column')\n",
        "\n",
        "chart_obs['x_obs'] = chart_obs[['x_row', 'x_column']].mean(axis=1)\n",
        "chart_obs['y_obs'] = chart_obs[['y_row', 'y_column']].mean(axis=1)\n",
        "\n",
        "chart_obs.head()"
      ],
      "metadata": {
        "id": "HYhWENJkJEUR"
      },
      "execution_count": null,
      "outputs": []
    },
    {
      "cell_type": "code",
      "source": [
        "fig, ax = plt.subplots(figsize=(18, 10))\n",
        "\n",
        "sns.scatterplot(\n",
        "  chart_row,\n",
        "  x='x_row',\n",
        "  y='y_row',\n",
        "  s=50,\n",
        "  ax=ax\n",
        ")\n",
        "sns.scatterplot(\n",
        "  chart_column,\n",
        "  x='x_column',\n",
        "  y='y_column',\n",
        "  s=50,\n",
        "  ax=ax\n",
        ")\n",
        "\n",
        "sns.scatterplot(\n",
        "  chart_obs,\n",
        "  x='x_obs',\n",
        "  y='y_obs',\n",
        "  s=50,\n",
        "  ax=ax\n",
        ")\n",
        "\n",
        "set_vars_labels(chart_row, ax)\n",
        "set_vars_labels(chart_column, ax)\n",
        "\n",
        "sns.despine(top=True,\n",
        "            right=True)\n",
        "\n",
        "plt.axhline(y=0, color='k', ls='--')\n",
        "plt.axvline(x=0, color='k', ls='--')\n",
        "\n",
        "plt.title('Mapa perceptual', fontsize=18)\n",
        "plt.xlabel(f'Dimensão 1 - {ca.eigenvalues_summary.iloc[0, 1]} da inércia', fontsize=12)\n",
        "plt.ylabel(f'Dimensão 2 - {ca.eigenvalues_summary.iloc[1, 1]} da inércia', fontsize=12)\n",
        "\n",
        "plt.show()"
      ],
      "metadata": {
        "id": "GtuUm7BmJTFM"
      },
      "execution_count": null,
      "outputs": []
    },
    {
      "cell_type": "code",
      "source": [],
      "metadata": {
        "id": "w5Q549IUI651"
      },
      "execution_count": null,
      "outputs": []
    },
    {
      "cell_type": "markdown",
      "source": [
        "### Análise de Correspondência Múltipla (ACM)"
      ],
      "metadata": {
        "id": "UN9CC3Zgg41r"
      }
    },
    {
      "cell_type": "markdown",
      "source": [
        "#### Introdução\n",
        "\n",
        "* A análise de correspondência múltipla (também referenciada como ACM), busca apontar a existência de associação entre mais de duas variáveis;\n",
        "  * Apenas variáveis com significância estatística, com pelo menos outra variável, participam da análise;"
      ],
      "metadata": {
        "id": "tw7Xl_fzhRzS"
      }
    },
    {
      "cell_type": "markdown",
      "source": [
        "#### Cálculo da siginifiância estatística $\\chi^2$"
      ],
      "metadata": {
        "id": "Uoh6MaT6Cgd0"
      }
    },
    {
      "cell_type": "markdown",
      "source": [
        "##### Método da matriz binária Z - Coordenadas padrão\n",
        "\n",
        "* Obtida através da transformação das variáveis qualitativas em binárias;\n",
        "  * Também conhecidas como variáveis _dummies_ - 0 ou 1;\n",
        "* Considerando que tal matriz será a tabela de contigência, será possível obter, posteriormente a transformação, a inércia principal parcial das dimensões, autovalores, autovetores e, por conseguinte, as coordenadas no mapa perceptual;\n",
        "* A quantidade de dimensões ($\\lambda^2$) é dada pela seguinte expressão:\n",
        "  * $\\lambda^2=J-Q$\n",
        "  * $J$ sendo a quantidade total de categorias em todas as variáveis\n",
        "  * $Q$ sendo a quantidade de variáveis"
      ],
      "metadata": {
        "id": "orn5dv9vCqsT"
      }
    },
    {
      "cell_type": "code",
      "source": [],
      "metadata": {
        "id": "xXQf7OSHCrVW"
      },
      "execution_count": null,
      "outputs": []
    },
    {
      "cell_type": "code",
      "source": [],
      "metadata": {
        "id": "kBwoobnkCthk"
      },
      "execution_count": null,
      "outputs": []
    },
    {
      "cell_type": "markdown",
      "source": [
        "* A inércia principal total pode ser obtida através da seguinte expressão:\n",
        "\n",
        "$$\n",
        "\\text{Inércia principal total}=\\frac{J-Q}{Q}\n",
        "$$"
      ],
      "metadata": {
        "id": "m7MNe77qEqX4"
      }
    },
    {
      "cell_type": "code",
      "source": [],
      "metadata": {
        "id": "aLf3Sx5mErFw"
      },
      "execution_count": null,
      "outputs": []
    },
    {
      "cell_type": "code",
      "source": [],
      "metadata": {
        "id": "mmmbavlaEqth"
      },
      "execution_count": null,
      "outputs": []
    },
    {
      "cell_type": "markdown",
      "source": [
        "##### Método de [Burt](https://en.wikipedia.org/wiki/Multiple_correspondence_analysis) - Coordenadas principais\n",
        "\n",
        "* Definida como sendo a matriz obtida através de:\n",
        "  * $B=Z'.Z$\n",
        "* Nesta matriz, obtem-se o cruzamento de todos os pares de variáveis e suas categorias;\n",
        "  * Assim portanto, uma matriz que contém as frequências absolutas observadas para todos os cruzamentos\n",
        "* Considerando que tal matriz será a tabela de contigência, será possível obter, posteriormente a transformação, a inércia principal parcial das dimensões, autovalores, autovetores e, por conseguinte, as coordenadas no mapa perceptual;"
      ],
      "metadata": {
        "id": "Jy5BrGwXCsAV"
      }
    },
    {
      "cell_type": "code",
      "source": [],
      "metadata": {
        "id": "tlvjTj8_BtUk"
      },
      "execution_count": null,
      "outputs": []
    },
    {
      "cell_type": "code",
      "source": [],
      "metadata": {
        "id": "PAToCr89Btnj"
      },
      "execution_count": null,
      "outputs": []
    }
  ],
  "metadata": {
    "kernelspec": {
      "display_name": "Python 3 (ipykernel)",
      "language": "python",
      "name": "python3"
    },
    "language_info": {
      "codemirror_mode": {
        "name": "ipython",
        "version": 3
      },
      "file_extension": ".py",
      "mimetype": "text/x-python",
      "name": "python",
      "nbconvert_exporter": "python",
      "pygments_lexer": "ipython3",
      "version": "3.11.7"
    },
    "colab": {
      "provenance": []
    }
  },
  "nbformat": 4,
  "nbformat_minor": 0
}